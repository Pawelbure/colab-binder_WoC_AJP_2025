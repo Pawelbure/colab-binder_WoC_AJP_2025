{
 "cells": [
  {
   "cell_type": "code",
   "execution_count": null,
   "id": "aa0bc2d0-c5b5-490f-83c7-4118ca88a0e2",
   "metadata": {},
   "outputs": [],
   "source": []
  },
  {
   "cell_type": "code",
   "execution_count": null,
   "id": "91e9b9e7-f44e-43fa-b019-bd2877e2e4cb",
   "metadata": {},
   "outputs": [],
   "source": [
    "!pip install torch"
   ]
  },
  {
   "cell_type": "code",
   "execution_count": 3,
   "id": "dbf444f5-9f09-4e4d-bab2-5f47473ad3e3",
   "metadata": {},
   "outputs": [
    {
     "ename": "ModuleNotFoundError",
     "evalue": "No module named 'torch'",
     "output_type": "error",
     "traceback": [
      "\u001b[1;31m---------------------------------------------------------------------------\u001b[0m",
      "\u001b[1;31mModuleNotFoundError\u001b[0m                       Traceback (most recent call last)",
      "Cell \u001b[1;32mIn[3], line 5\u001b[0m\n\u001b[0;32m      3\u001b[0m \u001b[38;5;28;01mimport\u001b[39;00m \u001b[38;5;21;01mmatplotlib\u001b[39;00m\u001b[38;5;21;01m.\u001b[39;00m\u001b[38;5;21;01mpyplot\u001b[39;00m \u001b[38;5;28;01mas\u001b[39;00m \u001b[38;5;21;01mplt\u001b[39;00m\n\u001b[0;32m      4\u001b[0m \u001b[38;5;28;01mfrom\u001b[39;00m \u001b[38;5;21;01mscipy\u001b[39;00m\u001b[38;5;21;01m.\u001b[39;00m\u001b[38;5;21;01mintegrate\u001b[39;00m \u001b[38;5;28;01mimport\u001b[39;00m solve_ivp\n\u001b[1;32m----> 5\u001b[0m \u001b[38;5;28;01mimport\u001b[39;00m \u001b[38;5;21;01mtorch\u001b[39;00m\n\u001b[0;32m      6\u001b[0m \u001b[38;5;28;01mimport\u001b[39;00m \u001b[38;5;21;01mtorch\u001b[39;00m\u001b[38;5;21;01m.\u001b[39;00m\u001b[38;5;21;01mnn\u001b[39;00m \u001b[38;5;28;01mas\u001b[39;00m \u001b[38;5;21;01mnn\u001b[39;00m\n\u001b[0;32m      7\u001b[0m \u001b[38;5;28;01mimport\u001b[39;00m \u001b[38;5;21;01mtorch\u001b[39;00m\u001b[38;5;21;01m.\u001b[39;00m\u001b[38;5;21;01moptim\u001b[39;00m \u001b[38;5;28;01mas\u001b[39;00m \u001b[38;5;21;01moptim\u001b[39;00m\n",
      "\u001b[1;31mModuleNotFoundError\u001b[0m: No module named 'torch'"
     ]
    }
   ],
   "source": [
    "# --------------------- Import necessary libraries ---------------------\n",
    "import numpy as np\n",
    "import matplotlib.pyplot as plt\n",
    "from scipy.integrate import solve_ivp\n",
    "import torch\n",
    "import torch.nn as nn\n",
    "import torch.optim as optim"
   ]
  },
  {
   "cell_type": "code",
   "execution_count": null,
   "id": "3543d6c7-fec0-4a33-b541-b10ddad432af",
   "metadata": {},
   "outputs": [],
   "source": [
    "# --------------------- Simulate Lorenz system and plot data ---------------------\n",
    "# Lorenz system parameters\n",
    "sigma = 10.0\n",
    "beta = 8/3\n",
    "rho = 28.0\n",
    "\n",
    "# Lorenz ODE system\n",
    "def lorenz_ode(t, state):\n",
    "    x, y, z = state\n",
    "    dxdt = sigma * (y - x)\n",
    "    dydt = x * (rho - z) - y\n",
    "    dzdt = x * y - beta * z\n",
    "    return [dxdt, dydt, dzdt]\n",
    "\n",
    "# Initial condition and time setup\n",
    "t_span = (0, 25)\n",
    "t_eval = np.linspace(*t_span, 1000)\n",
    "initial_state = [1.0, 1.0, 1.0]\n",
    "\n",
    "# Simulate trajectory\n",
    "sol = solve_ivp(lorenz_ode, t_span, initial_state, t_eval=t_eval, method='RK45')\n",
    "x, y, z = sol.y\n",
    "\n",
    "# Plot Lorenz trajectory\n",
    "fig = plt.figure(figsize=(10, 6))\n",
    "ax = fig.add_subplot(111, projection='3d')\n",
    "ax.plot(x, y, z)\n",
    "ax.set_title('Lorenz System Trajectory')\n",
    "ax.set_xlabel('X')\n",
    "ax.set_ylabel('Y')\n",
    "ax.set_zlabel('Z')\n",
    "plt.show()"
   ]
  },
  {
   "cell_type": "code",
   "execution_count": null,
   "id": "9e1f539f-3ae6-40e4-904d-004544d2c482",
   "metadata": {},
   "outputs": [],
   "source": [
    "# --- Code Cell ---\n",
    "# Select collocation points\n",
    "num_collocation = 50\n",
    "collocation_idx = np.linspace(0, len(t_eval)-1, num_collocation, dtype=int)\n",
    "\n",
    "t_collocation = t_eval[collocation_idx]\n",
    "x_collocation = x[collocation_idx]\n",
    "y_collocation = y[collocation_idx]\n",
    "z_collocation = z[collocation_idx]\n",
    "\n",
    "# Plot collocation points on X(t)\n",
    "plt.figure(figsize=(10, 4))\n",
    "plt.plot(t_eval, x, label='x(t)', alpha=0.5)\n",
    "plt.scatter(t_collocation, x_collocation, color='red', label='Collocation Points (x)')\n",
    "plt.xlabel('Time (s)')\n",
    "plt.ylabel('X')\n",
    "plt.title('Collocation Points on x(t)')\n",
    "plt.legend()\n",
    "plt.grid(True)\n",
    "plt.show()"
   ]
  },
  {
   "cell_type": "code",
   "execution_count": null,
   "id": "5795f8c5-c584-4851-8f67-ada4e695bf21",
   "metadata": {},
   "outputs": [],
   "source": [
    "# Hyperparameters\n",
    "epochs = 10000"
   ]
  },
  {
   "cell_type": "code",
   "execution_count": null,
   "id": "95bb515e-6bf9-4073-8724-bd9ae30310a0",
   "metadata": {},
   "outputs": [],
   "source": [
    "# Prepare training data (collocation points)\n",
    "t_train = torch.tensor(t_collocation, dtype=torch.float32).unsqueeze(1)\n",
    "y_train = torch.tensor(np.vstack([x_collocation, y_collocation, z_collocation]).T, dtype=torch.float32)\n",
    "\n",
    "# Define the network\n",
    "class LorenzNN(nn.Module):\n",
    "    def __init__(self):\n",
    "        super().__init__()\n",
    "        self.net = nn.Sequential(\n",
    "            nn.Linear(1, 64),\n",
    "            nn.Softplus(),\n",
    "            nn.Linear(64, 64),\n",
    "            nn.Softplus(),\n",
    "            nn.Linear(64, 3)\n",
    "        )\n",
    "    def forward(self, t):\n",
    "        return self.net(t)"
   ]
  },
  {
   "cell_type": "code",
   "execution_count": null,
   "id": "c2b14b5b-791a-45e8-ad9a-abd61686c1be",
   "metadata": {},
   "outputs": [],
   "source": [
    "# Instantiate model, optimizer and loss\n",
    "model = LorenzNN()\n",
    "optimizer = optim.Adam(model.parameters(), lr=1e-3)\n",
    "loss_fn = nn.MSELoss()\n",
    "\n",
    "# Train model\n",
    "for epoch in range(epochs):\n",
    "    model.train()\n",
    "    optimizer.zero_grad()\n",
    "    pred = model(t_train)\n",
    "    loss = loss_fn(pred, y_train)\n",
    "    loss.backward()\n",
    "    optimizer.step()\n",
    "    if epoch % 1000 == 0:\n",
    "        print(f\"Epoch {epoch}, Loss: {loss.item():.6f}\")"
   ]
  },
  {
   "cell_type": "code",
   "execution_count": null,
   "id": "008fab66-6bf0-436c-bcd0-bf4c62cf5a74",
   "metadata": {},
   "outputs": [],
   "source": [
    "# Evaluate model on full time range\n",
    "t_all = torch.tensor(t_eval, dtype=torch.float32).unsqueeze(1)\n",
    "with torch.no_grad():\n",
    "    pred_all = model(t_all).numpy()\n",
    "\n",
    "# Plot predictions vs. true values\n",
    "plt.figure(figsize=(10, 4))\n",
    "plt.plot(t_eval, x, label='True x', alpha=0.5)\n",
    "plt.plot(t_eval, pred_all[:, 0], '--', label='Predicted x')\n",
    "plt.xlabel('Time')\n",
    "plt.ylabel('x')\n",
    "plt.title('True vs Predicted x(t)')\n",
    "plt.legend()\n",
    "plt.grid(True)\n",
    "plt.show()\n",
    "\n",
    "# Repeat for y and z\n",
    "plt.figure(figsize=(10, 4))\n",
    "plt.plot(t_eval, y, label='True y', alpha=0.5)\n",
    "plt.plot(t_eval, pred_all[:, 1], '--', label='Predicted y')\n",
    "plt.xlabel('Time')\n",
    "plt.ylabel('y')\n",
    "plt.title('True vs Predicted y(t)')\n",
    "plt.legend()\n",
    "plt.grid(True)\n",
    "plt.show()\n",
    "\n",
    "plt.figure(figsize=(10, 4))\n",
    "plt.plot(t_eval, z, label='True z', alpha=0.5)\n",
    "plt.plot(t_eval, pred_all[:, 2], '--', label='Predicted z')\n",
    "plt.xlabel('Time')\n",
    "plt.ylabel('z')\n",
    "plt.title('True vs Predicted z(t)')\n",
    "plt.legend()\n",
    "plt.grid(True)\n",
    "plt.show()"
   ]
  }
 ],
 "metadata": {
  "kernelspec": {
   "display_name": "Python [conda env:base] *",
   "language": "python",
   "name": "conda-base-py"
  },
  "language_info": {
   "codemirror_mode": {
    "name": "ipython",
    "version": 3
   },
   "file_extension": ".py",
   "mimetype": "text/x-python",
   "name": "python",
   "nbconvert_exporter": "python",
   "pygments_lexer": "ipython3",
   "version": "3.12.7"
  }
 },
 "nbformat": 4,
 "nbformat_minor": 5
}
