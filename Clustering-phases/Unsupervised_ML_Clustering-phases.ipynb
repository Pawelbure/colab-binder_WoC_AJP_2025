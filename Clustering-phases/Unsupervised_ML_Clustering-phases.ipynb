{
 "cells": [
  {
   "cell_type": "markdown",
   "metadata": {
    "id": "vMDO49FhdkWz"
   },
   "source": [
    "# Notebook for Unsupervised ML: Clustering phases"
   ]
  },
  {
   "cell_type": "markdown",
   "metadata": {
    "executionInfo": {
     "elapsed": 31,
     "status": "ok",
     "timestamp": 1753367301083,
     "user": {
      "displayName": "Peter Wulff",
      "userId": "00945079592507225542"
     },
     "user_tz": -120
    },
    "id": "IdFRCe8G9piD"
   },
   "source": [
    "Code inspired by L. Wang, Discovering Phase Transitions with Unsupervised Learning, Phys. Rev. B 94 (2016). https://doi.org/10.1103/PhysRevB.94.195105.\n",
    "\n",
    "Code generated with assistance of ChatGPT (23 July 2025)"
   ]
  },
  {
   "cell_type": "markdown",
   "metadata": {},
   "source": [
    "## Set up working tree and load packages"
   ]
  },
  {
   "cell_type": "code",
   "execution_count": 1,
   "metadata": {},
   "outputs": [],
   "source": [
    "%matplotlib inline\n",
    "import numpy as np\n",
    "import matplotlib.pyplot as plt\n",
    "from sklearn.manifold import TSNE\n",
    "import hdbscan\n",
    "import pickle\n",
    "\n",
    "# set seeds to make outputs reproducible\n",
    "seed = 42\n",
    "np.random.seed(seed)"
   ]
  },
  {
   "cell_type": "markdown",
   "metadata": {
    "id": "8ANIWFHmeNc6"
   },
   "source": [
    "## Mount and load data"
   ]
  },
  {
   "cell_type": "code",
   "execution_count": 4,
   "metadata": {
    "colab": {
     "base_uri": "https://localhost:8080/"
    },
    "executionInfo": {
     "elapsed": 4765,
     "status": "ok",
     "timestamp": 1753367332417,
     "user": {
      "displayName": "Peter Wulff",
      "userId": "00945079592507225542"
     },
     "user_tz": -120
    },
    "id": "dlAUnruA_NJZ",
    "outputId": "fa0ddf38-53db-483f-95e9-873633c2d2fe"
   },
   "outputs": [
    {
     "name": "stdout",
     "output_type": "stream",
     "text": [
      "lattice_bank shape: (1400, 6400)\n",
      "labels shape      : (1400,)\n",
      "Temperatures      : [1.6, 1.7000000000000002, 1.8000000000000003, 1.9000000000000004, 2.0000000000000004, 2.1000000000000005, 2.2000000000000006, 2.3000000000000007, 2.400000000000001, 2.500000000000001, 2.600000000000001, 2.700000000000001, 2.800000000000001, 2.9000000000000012]\n"
     ]
    }
   ],
   "source": [
    "N = 80\n",
    "pkl_path = f\"mc_samples_{N}.pickle\"\n",
    "with open(pkl_path, \"rb\") as f:\n",
    "    data = pickle.load(f)           # dict  {temperature: [arrays]}\n",
    "\n",
    "# ------------------------------------------------------------\n",
    "# 2. build (14*100) × (80*80) matrix + temperature vector\n",
    "# ------------------------------------------------------------\n",
    "temps          = sorted(data.keys())         # e.g. 1.6 … 2.9\n",
    "samples_per_T  = 100\n",
    "total_samples  = len(temps) * samples_per_T  # 1400\n",
    "flat_size      = N * N                       # 6400\n",
    "\n",
    "lattice_bank = np.empty((total_samples, flat_size), dtype=np.int8)\n",
    "labels       = np.empty(total_samples,        dtype=np.float64)\n",
    "\n",
    "row = 0\n",
    "for T in temps:\n",
    "    cfgs = data[T][:samples_per_T]           # first 100 configs at this T\n",
    "    for cfg in cfgs:\n",
    "        lattice_bank[row] = cfg.astype(np.int8)  # cfg already flattened\n",
    "        labels[row]       = float(T)\n",
    "        row += 1\n",
    "\n",
    "print(\"lattice_bank shape:\", lattice_bank.shape)   # (1400, 6400)\n",
    "print(\"labels shape      :\", labels.shape)         # (1400,)\n",
    "print(\"Temperatures      :\", temps)"
   ]
  },
  {
   "cell_type": "markdown",
   "metadata": {
    "id": "yELO1eJq9IVM"
   },
   "source": [
    "## Perform t-SNE and HDBSCAN"
   ]
  },
  {
   "cell_type": "code",
   "execution_count": null,
   "metadata": {
    "colab": {
     "base_uri": "https://localhost:8080/"
    },
    "id": "wRe_QUSwKY2k",
    "outputId": "e8014439-5720-4254-a1ff-33cea697896b"
   },
   "outputs": [],
   "source": [
    "# --------------------- Define parameter sets ---------------------\n",
    "tsne_params = [\n",
    "    dict(name='Local structure',\n",
    "         perplexity=30,\n",
    "         early_exaggeration=12),          # default EE emphasises local\n",
    "    dict(name='Global structure',\n",
    "         perplexity=150,\n",
    "         early_exaggeration=4),           # low EE keeps global layout\n",
    "    dict(name='Balanced',\n",
    "         perplexity=80,\n",
    "         early_exaggeration=8)\n",
    "]\n",
    "\n",
    "# --------------------- Set up figure ---------------------\n",
    "import matplotlib as mpl\n",
    "mpl.rcParams['text.usetex'] = False          # keep TeX off\n",
    "\n",
    "fig, axes = plt.subplots(3, 2, figsize=(10, 12))\n",
    "fig.subplots_adjust(hspace=0.35, wspace=0.20)\n",
    "\n",
    "palette = plt.cm.tab10(np.linspace(0, 1, 10))   # for cluster colours\n",
    "\n",
    "# --------------------- Perform t-SNE over parameter set ---------------------\n",
    "for row, p in enumerate(tsne_params):\n",
    "    tsne = TSNE(\n",
    "        n_components=2,\n",
    "        perplexity=p['perplexity'],\n",
    "        learning_rate=200.0,\n",
    "        max_iter=10_000,\n",
    "        early_exaggeration=p['early_exaggeration'],\n",
    "        metric='euclidean',\n",
    "        random_state=seed,\n",
    "        init='pca',          # stable start\n",
    "        verbose=0\n",
    "    )\n",
    "    emb = tsne.fit_transform(lattice_bank.astype(float))\n",
    "\n",
    "    # (row, 0): t‑SNE coloured by temperature\n",
    "    ax_tsne = axes[row, 0]\n",
    "    sc = ax_tsne.scatter(emb[:, 0], emb[:, 1],\n",
    "                         c=labels, cmap='viridis', s=6)\n",
    "    if row == 0:  # one colour‑bar for the whole grid\n",
    "        cbar = fig.colorbar(sc, ax=ax_tsne, fraction=0.046, pad=0.04)\n",
    "        cbar.set_label('Temperature')\n",
    "    ax_tsne.set_xlabel('t‑SNE‑1')\n",
    "    ax_tsne.set_ylabel('t‑SNE‑2')\n",
    "    ax_tsne.set_title(f\"t‑SNE: {p['name']}\")\n",
    "\n",
    "    # --------------------- HDBSCAN clustering on same embedding ---------------------\n",
    "    clusterer = hdbscan.HDBSCAN(min_cluster_size=30,\n",
    "                                min_samples=10,\n",
    "                                metric='euclidean',\n",
    "                                n_jobs=1)\n",
    "    clabels = clusterer.fit_predict(emb)\n",
    "    n_clust = len(np.unique(clabels[clabels >= 0]))\n",
    "    print(f\"t‑SNE {p['name']} → {n_clust} clusters\")\n",
    "\n",
    "    colors = [palette[l % 10] if l >= 0 else (0.8, 0.8, 0.8, 0.3)\n",
    "              for l in clabels]\n",
    "\n",
    "    ax_clu = axes[row, 1]\n",
    "    ax_clu.scatter(emb[:, 0], emb[:, 1],\n",
    "                   c=colors, s=6, linewidth=0)\n",
    "    ax_clu.set_xlabel('t‑SNE‑1')\n",
    "    ax_clu.set_ylabel('t‑SNE‑2')\n",
    "    ax_clu.set_title(f\"HDBSCAN clusters ({n_clust})\")\n",
    "\n",
    "# ----- 3. finalise -------------------------------------------\n",
    "plt.tight_layout()\n",
    "\n",
    "# ---- Option A: 100 % raster PNG (simplest, smallest) --------\n",
    "png_path = \"ising_tsne_hdbscan_grid.png\"\n",
    "fig.savefig(png_path, dpi=300, bbox_inches=\"tight\")\n",
    "print(\"Saved:\", png_path)"
   ]
  }
 ],
 "metadata": {
  "colab": {
   "authorship_tag": "ABX9TyNrxnHAiRKoFk8vsWinr2t1",
   "mount_file_id": "1BTCmJdX0nehBaR46bxK-sN_IS6gzgFLG",
   "provenance": [],
   "toc_visible": true
  },
  "kernelspec": {
   "display_name": "Python [conda env:Orange]",
   "language": "python",
   "name": "conda-env-Orange-py"
  },
  "language_info": {
   "codemirror_mode": {
    "name": "ipython",
    "version": 3
   },
   "file_extension": ".py",
   "mimetype": "text/x-python",
   "name": "python",
   "nbconvert_exporter": "python",
   "pygments_lexer": "ipython3",
   "version": "3.11.8"
  }
 },
 "nbformat": 4,
 "nbformat_minor": 4
}
